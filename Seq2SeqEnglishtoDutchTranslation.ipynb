{
  "nbformat": 4,
  "nbformat_minor": 0,
  "metadata": {
    "colab": {
      "name": "Seq2SeqEnglishtoDutchTranslation.ipynb",
      "provenance": [],
      "collapsed_sections": [],
      "machine_shape": "hm",
      "authorship_tag": "ABX9TyNxnOtY5C7j9SxPJYYIUuJb",
      "include_colab_link": true
    },
    "kernelspec": {
      "name": "python3",
      "display_name": "Python 3"
    },
    "accelerator": "GPU"
  },
  "cells": [
    {
      "cell_type": "markdown",
      "metadata": {
        "id": "view-in-github",
        "colab_type": "text"
      },
      "source": [
        "<a href=\"https://colab.research.google.com/github/hughes28/Seq2SeqNeuralMachineTranslator/blob/master/Seq2SeqEnglishtoDutchTranslation.ipynb\" target=\"_parent\"><img src=\"https://colab.research.google.com/assets/colab-badge.svg\" alt=\"Open In Colab\"/></a>"
      ]
    },
    {
      "cell_type": "markdown",
      "metadata": {
        "id": "MutcE16v-owy",
        "colab_type": "text"
      },
      "source": [
        "# English-to-Dutch Neural Machine Translation via Seq2Seq Architecture"
      ]
    },
    {
      "cell_type": "markdown",
      "metadata": {
        "id": "GZGxmQkU5QIU",
        "colab_type": "text"
      },
      "source": [
        "## Background"
      ]
    },
    {
      "cell_type": "markdown",
      "metadata": {
        "id": "GDQZ2zNyYqjF",
        "colab_type": "text"
      },
      "source": [
        "### Neural machine translation is the ability for neural networks to predict the likelihood of a given sequence of words. A popular architecture used to do this is Seq2Seq. It consists of an encoder/decoder system which trains on English sentences and English word embeddings (represents word relations). The encoder model will go through each part of the numerical input sequence and generate an initial \"state\" to be used for the decoder. The state includes information about the sequence itself and the relation between the words. The decoder model takes this information in and begins to predict what the output would be using the state information and the \"begin\" token that is used to indicate the start of the sentence. It continuously loops through predicted words until it reaches an \"end\" token where it stops automatically. The predicted words are then grouped together and returned as a string. This following script details the data processing, accuracy determination, model generation, and sentence translation for a standard Seq2Seq architecture consisting of two long short-term memory (LSTM) networks based on recurrent neural networks (RNN)."
      ]
    },
    {
      "cell_type": "markdown",
      "metadata": {
        "id": "gRwWEmyf-_Av",
        "colab_type": "text"
      },
      "source": [
        "##1. Create sentence data"
      ]
    },
    {
      "cell_type": "markdown",
      "metadata": {
        "id": "GjmsokBr_107",
        "colab_type": "text"
      },
      "source": [
        "### 1.1. Upload dataset"
      ]
    },
    {
      "cell_type": "code",
      "metadata": {
        "id": "naNXBBmsAExO",
        "colab_type": "code",
        "colab": {
          "base_uri": "https://localhost:8080/",
          "height": 34
        },
        "outputId": "d11642f3-360d-45f9-8a7e-6f85b6123f0e"
      },
      "source": [
        "# Source of dataset: http://www.manythings.org/anki/\n",
        "# Source of word pre-trained word embeddings: https://nlp.stanford.edu/projects/glove/\n",
        "# Files are uploaded to Google Drive and referenced using google.colab.\n",
        "\n",
        "import os\n",
        "from google.colab import drive\n",
        "\n",
        "drive.mount(\"/content/gdrive\")\n",
        "sentences_file_path = '/content/gdrive/My Drive/LanguageData/nld.txt'\n",
        "embeddings_file_path = '/content/gdrive/My Drive/LanguageData/glove.6B.100d.txt'"
      ],
      "execution_count": null,
      "outputs": [
        {
          "output_type": "stream",
          "text": [
            "Drive already mounted at /content/gdrive; to attempt to forcibly remount, call drive.mount(\"/content/gdrive\", force_remount=True).\n"
          ],
          "name": "stdout"
        }
      ]
    },
    {
      "cell_type": "markdown",
      "metadata": {
        "id": "S67Ej6XGG87G",
        "colab_type": "text"
      },
      "source": [
        "### 1.2. Pre-process sentence data"
      ]
    },
    {
      "cell_type": "markdown",
      "metadata": {
        "id": "ER0UA2trHW3A",
        "colab_type": "text"
      },
      "source": [
        "#### Three lists of sentences must be generated for this LSTM network:\n",
        "\n",
        "\n",
        "1.   input_sentences (consisting of pure English sentences with no processing to be done)\n",
        "\n",
        "2.   input_translated_sentences (consisting of translated Dutch sentences with a starting token denoted as <begin\\> which the encoder LSTM accepts)\n",
        "\n",
        "3.   output_translated_sentences (consisting of translated Dutch sentences with an ending token denoted as <end\\> that is the target output of the neural network)\n",
        "\n"
      ]
    },
    {
      "cell_type": "code",
      "metadata": {
        "id": "icdDT5mFIhfU",
        "colab_type": "code",
        "colab": {}
      },
      "source": [
        "import re\n",
        "\n",
        "# Designate a total sentence count for the LSTM to learn from.\n",
        "SENTENCE_COUNT = 40000\n",
        "\n",
        "input_sentences = []\n",
        "input_translated_sentences = []\n",
        "output_translated_sentences = []\n",
        "\n",
        "count = 0\n",
        "for line in open(sentences_file_path, encoding='utf-8'):\n",
        "    if count < SENTENCE_COUNT:\n",
        "        if '\\t' in line:\n",
        "            # Removes spaces/punctuation and splits each line based on tab.\n",
        "            # First value: English phrase, Second value: Dutch phrase\n",
        "            line = re.sub(r'[^\\w\\s]','', line)\n",
        "            line_values = line.rstrip().split('\\t')\n",
        "            input_sentences.append(line_values[0])\n",
        "\n",
        "            # Tokens are symbols for 'start' and 'end' respectively in Chinese.\n",
        "            # This ensures no confusion between English words 'start' and 'end'.\n",
        "            input_translated_sentence = '走 ' + line_values[1]\n",
        "            output_translated_sentence = line_values[1] + ' 停'\n",
        "\n",
        "            input_translated_sentences.append(input_translated_sentence)\n",
        "            output_translated_sentences.append(output_translated_sentence)\n",
        "            count += 1\n",
        "    else:\n",
        "        break"
      ],
      "execution_count": null,
      "outputs": []
    },
    {
      "cell_type": "markdown",
      "metadata": {
        "id": "eFAdYD8RQ9DX",
        "colab_type": "text"
      },
      "source": [
        "### 1.3. Tokenization"
      ]
    },
    {
      "cell_type": "markdown",
      "metadata": {
        "id": "9B-WM5BURFVQ",
        "colab_type": "text"
      },
      "source": [
        "#### Tokenization is the process of assigning a unique index integer to each unique word and generating a sequence of numbers. Regarding RNNs, or closely related data, TensorFlow only accepts sequences of numbers. Both the original sentences and the translated sentences (both the input and ouput together) are tokenized as two separate groups."
      ]
    },
    {
      "cell_type": "markdown",
      "metadata": {
        "id": "9ehfgSz7h3e7",
        "colab_type": "text"
      },
      "source": [
        "##### Input Sentences Tokenizer"
      ]
    },
    {
      "cell_type": "code",
      "metadata": {
        "id": "Ovw5cw4EPXsL",
        "colab_type": "code",
        "colab": {}
      },
      "source": [
        "# !pip uninstall -y tensorflow # Gets rid of old version of TF, run if model isn't training\n",
        "!pip install -q tensorflow # Installs TF to environment\n",
        "%tensorflow_version 2.x\n",
        "\n",
        "from tensorflow.keras.preprocessing.text import Tokenizer\n",
        "\n",
        "VOCABULARY_SIZE = 25000\n",
        "\n",
        "# Instantiate a Tokenizer instance which takes in a max vocabulary size.\n",
        "input_tokenizer = Tokenizer(num_words=VOCABULARY_SIZE)\n",
        "input_tokenizer.fit_on_texts(input_sentences)\n",
        "\n",
        "# Extract numerical sequences of each input sentence.\n",
        "input_sequences = input_tokenizer.texts_to_sequences(input_sentences)\n",
        "\n",
        "# Extract word:index dictionary of each word in the input sentences.\n",
        "word_index_dict = input_tokenizer.word_index\n",
        "word_count = len(word_index_dict) + 1\n",
        "\n",
        "# Find maximum sentence length out of all input sentences.\n",
        "max_input_length = max(len(seq) for seq in input_sequences)"
      ],
      "execution_count": null,
      "outputs": []
    },
    {
      "cell_type": "markdown",
      "metadata": {
        "id": "yuktPjzgh7p1",
        "colab_type": "text"
      },
      "source": [
        "##### Output Sentences Tokenizer"
      ]
    },
    {
      "cell_type": "code",
      "metadata": {
        "id": "grFZNsMCV0_e",
        "colab_type": "code",
        "colab": {}
      },
      "source": [
        "# Same process as before.\n",
        "output_tokenizer = Tokenizer(num_words=VOCABULARY_SIZE)\n",
        "output_tokenizer.fit_on_texts(input_translated_sentences + output_translated_sentences)\n",
        "\n",
        "# Extract numerical sequences of each input/output translated sentence.\n",
        "input_translated_sequences = output_tokenizer.texts_to_sequences(input_translated_sentences)\n",
        "output_translated_sequences = output_tokenizer.texts_to_sequences(output_translated_sentences)\n",
        "\n",
        "# Retrieve a word:index dictionary of each word in the input/output translated sentences.\n",
        "translated_word_index_dict = output_tokenizer.word_index\n",
        "translated_word_count = len(translated_word_index_dict) + 1\n",
        "\n",
        "# Find maximum input length for padding.\n",
        "max_output_length = max([len(seq) for seq in output_translated_sequences])"
      ],
      "execution_count": null,
      "outputs": []
    },
    {
      "cell_type": "markdown",
      "metadata": {
        "id": "qb4d8th7vKy0",
        "colab_type": "text"
      },
      "source": [
        "### 1.4. Padding"
      ]
    },
    {
      "cell_type": "markdown",
      "metadata": {
        "id": "hTkyhdPHvpUJ",
        "colab_type": "text"
      },
      "source": [
        "#### All input arrays must be the same length for sequence data that is put into a TensorFlow neural network. However, sentences normally have different lengths so, to ensure they are the same length, 0's are either added on the left or right or each sequence to match the sentence."
      ]
    },
    {
      "cell_type": "code",
      "metadata": {
        "id": "4RkiD2QEu2h8",
        "colab_type": "code",
        "colab": {}
      },
      "source": [
        "from tensorflow.keras.preprocessing.sequence import pad_sequences\n",
        "\n",
        "encoder_input_sequences = pad_sequences(input_sequences, maxlen=max_input_length)\n",
        "decoder_input_sequences = pad_sequences(input_translated_sequences, maxlen=max_output_length, padding='post')\n",
        "decoder_output_sequences = pad_sequences(output_translated_sequences, maxlen=max_output_length, padding='post')"
      ],
      "execution_count": null,
      "outputs": []
    },
    {
      "cell_type": "markdown",
      "metadata": {
        "id": "gXdFB8V6Dp6Q",
        "colab_type": "text"
      },
      "source": [
        "### 1.5. Embedding"
      ]
    },
    {
      "cell_type": "markdown",
      "metadata": {
        "id": "ZhUF_YDSDy29",
        "colab_type": "text"
      },
      "source": [
        "#### Because sentences have a variety of words, it could be impossible to do one-hot encoding as it would take up a great deal of space (tens of thousands of elements for each one-hot encoded array). In the normal sequence, we have a sequence of unique integers in which each unique integer represents a unique word. However, the integers only offer one point of information about the word and not necessarily the order in which the words are normally placed. Word embeddings offer much more information about the word, including the word's relationship with other words. The word embeddings are calculated out and represent the positions as to where words are normally grouped by. The GloVe word embeddings is a pre-trained word embeddings .txt file that is used for English input sentences."
      ]
    },
    {
      "cell_type": "code",
      "metadata": {
        "id": "fU_lR70CDxNm",
        "colab_type": "code",
        "colab": {}
      },
      "source": [
        "import numpy as np\n",
        "from numpy import array, asarray, zeros\n",
        "\n",
        "embeddings_dict = dict()\n",
        "glove_file = open(embeddings_file_path)\n",
        "\n",
        "for line in glove_file:\n",
        "    records = line.split() # Turn into array with word on first position and embeddings as rest of line.\n",
        "    word = records[0]\n",
        "    vector_dim = asarray(records[1:], dtype='float32') # Take rest of embeddings out.\n",
        "    embeddings_dict[word] = vector_dim # Add to embeddings_dict as word:embeddings."
      ],
      "execution_count": null,
      "outputs": []
    },
    {
      "cell_type": "markdown",
      "metadata": {
        "id": "8OcI2zlkJ86x",
        "colab_type": "text"
      },
      "source": [
        "#### Now that the values have been extracted, we create a matrix of embedded values that are related to each word and merely skip over words that are not in the embeddings dictionary."
      ]
    },
    {
      "cell_type": "code",
      "metadata": {
        "id": "jmkGwRwaMuEO",
        "colab_type": "code",
        "colab": {}
      },
      "source": [
        "# Make sure your embedding size < word embeddings for each line.\n",
        "EMBEDDING_SIZE = 100\n",
        "\n",
        "# num_words is decided either by the minimum word count or the amount of words\n",
        "# in the input sentences, whatever is smaller.\n",
        "word_count = min(VOCABULARY_SIZE, word_count)\n",
        "\n",
        "# Creates a matrix of zeroes based on the English word count and the \n",
        "# size of the embeddings.\n",
        "embeddings_matrix = zeros((word_count, EMBEDDING_SIZE)) \n",
        "for word, index in word_index_dict.items():\n",
        "    # Attempts to get word embeddings for specific word.\n",
        "    embeddings_vector = embeddings_dict.get(word)\n",
        "    if embeddings_vector is not None:\n",
        "        embeddings_matrix[index] = embeddings_vector"
      ],
      "execution_count": null,
      "outputs": []
    },
    {
      "cell_type": "markdown",
      "metadata": {
        "id": "FFJtOgrWN_8o",
        "colab_type": "text"
      },
      "source": [
        "### 1.6. Create one-hot encoded sequences with the translated word count as the max number of classes to one-hot encode"
      ]
    },
    {
      "cell_type": "markdown",
      "metadata": {
        "id": "uEmeSGElC7tE",
        "colab_type": "text"
      },
      "source": [
        "#### TensorFlow only accepts one-hot encoded arrays and does not accept generic labels. Hence, to_categorical is used to create one-hot encoded labels. This is done on the padded output translated sequences (decoder output sequences)."
      ]
    },
    {
      "cell_type": "code",
      "metadata": {
        "id": "w2oN8ib_KTOJ",
        "colab_type": "code",
        "colab": {}
      },
      "source": [
        "from tensorflow.keras.utils import to_categorical\n",
        "\n",
        "decoder_targets_OHE = to_categorical(decoder_output_sequences, num_classes=translated_word_count)"
      ],
      "execution_count": null,
      "outputs": []
    },
    {
      "cell_type": "markdown",
      "metadata": {
        "id": "saqmqCtY1yzG",
        "colab_type": "text"
      },
      "source": [
        "## 2. Creating the encoder/decoder model "
      ]
    },
    {
      "cell_type": "markdown",
      "metadata": {
        "id": "eT75YBFrn9mt",
        "colab_type": "text"
      },
      "source": [
        "### This section goes over both how to make the model to determine accuracy of the neural network system and the model used to generate predictions of sentences as well."
      ]
    },
    {
      "cell_type": "markdown",
      "metadata": {
        "id": "nHw6SQRweH_i",
        "colab_type": "text"
      },
      "source": [
        "### 2.1. Creating the encoder"
      ]
    },
    {
      "cell_type": "markdown",
      "metadata": {
        "id": "szjp2Xk6du7w",
        "colab_type": "text"
      },
      "source": [
        "#### 2.1.1. Creating the encoder h/c states to plug into the decoder LSTM for accuracy determination"
      ]
    },
    {
      "cell_type": "markdown",
      "metadata": {
        "id": "BGJ3d1g919Mo",
        "colab_type": "text"
      },
      "source": [
        "##### The encoder will accept the input English sentences and be of their shape and its output will be the hidden state (h) and cell state (c) of the LSTM model. The weights are already initialized with the weights from the GloVe file. Plug an input layer of the size of the input English sentences into the embedding layer."
      ]
    },
    {
      "cell_type": "code",
      "metadata": {
        "id": "0OUQAAW7etq0",
        "colab_type": "code",
        "colab": {}
      },
      "source": [
        "from tensorflow.keras.layers import Input, LSTM, GRU, Dense, Embedding, Dropout, GlobalMaxPooling1D \n",
        "from tensorflow.keras.models import Model\n",
        "from IPython.display import Image\n",
        "from tensorflow.keras.utils import plot_model\n",
        "\n",
        "# The encoder input layer is generated.\n",
        "encoder_input = Input(shape=(max_input_length,), name='EncoderInput')\n",
        "\n",
        "# The input is plugged into the embedding layer to receive \"x\".\n",
        "encoder_input_x = Embedding(word_count,\n",
        "                          EMBEDDING_SIZE,\n",
        "                          weights=[embeddings_matrix],\n",
        "                          input_length=max_input_length,\n",
        "                          name='EncoderEmbeddingLayer')(encoder_input)\n",
        "\n",
        "# The encoder output and h/c states are extracted. h/c are used for the decoder.\n",
        "encoder_output, h, c = LSTM(1024, \n",
        "                            return_state=True,\n",
        "                            name='EncoderLSTM')(encoder_input_x)\n",
        "encoder_states = [h, c]"
      ],
      "execution_count": null,
      "outputs": []
    },
    {
      "cell_type": "markdown",
      "metadata": {
        "id": "Jiz95uV0eVvB",
        "colab_type": "text"
      },
      "source": [
        "#### 2.1.2. Creating the encoder prediction model"
      ]
    },
    {
      "cell_type": "markdown",
      "metadata": {
        "id": "xhkHA5tFeaJ-",
        "colab_type": "text"
      },
      "source": [
        "##### The encoder model is easy to make; all that is needed is the encoder input and the states generated by the encoder LSTM."
      ]
    },
    {
      "cell_type": "code",
      "metadata": {
        "id": "-lN1Pedfebk7",
        "colab_type": "code",
        "colab": {
          "base_uri": "https://localhost:8080/",
          "height": 312
        },
        "outputId": "3c81fb97-dee0-4213-8431-04e7dc8aa927"
      },
      "source": [
        "# The encoder input layer and final states are used to generate the model.\n",
        "encoder_model = Model(encoder_input, encoder_states)\n",
        "\n",
        "# Plot model to be used for predictions.\n",
        "plot_model(encoder_model, to_file='encoder_model.png', show_shapes=True, show_layer_names=True)\n",
        "Image('/content/encoder_model.png')"
      ],
      "execution_count": null,
      "outputs": [
        {
          "output_type": "execute_result",
          "data": {
            "image/png": "[encoded data removed]",
            "text/plain": [
              "<IPython.core.display.Image object>"
            ]
          },
          "metadata": {
            "tags": []
          },
          "execution_count": 10
        }
      ]
    },
    {
      "cell_type": "markdown",
      "metadata": {
        "id": "Ieo9YZDh4xRR",
        "colab_type": "text"
      },
      "source": [
        "### 2.2. Creating the decoder"
      ]
    },
    {
      "cell_type": "markdown",
      "metadata": {
        "id": "Rz3v2v8vbxv8",
        "colab_type": "text"
      },
      "source": [
        "#### 2.2.1. Creating the decoder output for accuracy determination"
      ]
    },
    {
      "cell_type": "markdown",
      "metadata": {
        "id": "RCQq9PxI4_8P",
        "colab_type": "text"
      },
      "source": [
        "##### The decoder has two inputs: the hidden/cell states that were calculated from the encoder (to be put into the LSTM) and the translated sentence with the \"begin\" token at the beginning."
      ]
    },
    {
      "cell_type": "code",
      "metadata": {
        "id": "pl0csA774zKs",
        "colab_type": "code",
        "colab": {}
      },
      "source": [
        "# The input/embedding layers are created.\n",
        "decoder_input = Input(shape=(max_output_length,), name='DecoderInput')\n",
        "decoder_embedding = Embedding(translated_word_count, 1024, name='DecoderEmbeddingLayer')\n",
        "\n",
        "# The input is plugged into the embedding layer to receive \"x\".\n",
        "decoder_input_x = decoder_embedding(decoder_input)\n",
        "\n",
        "# The decoder LSTM is created and the \"x\" is plugged into it to receive the output.\n",
        "decoder_LSTM = LSTM(1024, return_state=True, return_sequences=True, name='DecoderLSTM')\n",
        "decoder_output, _, _ = decoder_LSTM(decoder_input_x, initial_state=encoder_states)\n",
        "\n",
        "# The decoder LSTM is also passed through dense layers for output predictions.\n",
        "decoder_dense = Dense(1024, activation='relu', name='DenseLayer') \n",
        "decoder_dense_softmax = Dense(translated_word_count, activation='softmax', name='DenseSoftmaxLayer')\n",
        "\n",
        "decoder_output = decoder_dense(decoder_output)\n",
        "decoder_output = decoder_dense_softmax(decoder_output)"
      ],
      "execution_count": null,
      "outputs": []
    },
    {
      "cell_type": "markdown",
      "metadata": {
        "id": "X2Pnl2Gcb42O",
        "colab_type": "text"
      },
      "source": [
        "#### 2.2.2. Creating the decoder prediction model"
      ]
    },
    {
      "cell_type": "markdown",
      "metadata": {
        "id": "tCeUsQ1_cAp7",
        "colab_type": "text"
      },
      "source": [
        "##### The decoder model is made slightly differently; it is made so that a single word can pass through the model at a time. In addition, ***input initial layers of h and c*** are plugged into the decoder prediction model, not the encoder h and c states. The decoder states must be needed at each step for predictions to determine future words, so the model is changed for decoder to accept h and c states for each step. The embedding, LSTM, and dense layers are the same as the ones previously defined."
      ]
    },
    {
      "cell_type": "code",
      "metadata": {
        "id": "tVTWhCwlcCqX",
        "colab_type": "code",
        "colab": {
          "base_uri": "https://localhost:8080/",
          "height": 533
        },
        "outputId": "ea894a5b-9b37-47fa-93ce-3fe51befbfe9"
      },
      "source": [
        "# Initial h/c input layers are generated and put into an array.\n",
        "decoder_state_input_h = Input(shape=(1024,), name='InputHStep')\n",
        "decoder_state_input_c = Input(shape=(1024,), name='InputCStep')\n",
        "decoder_states_inputs = [decoder_state_input_h, decoder_state_input_c]\n",
        "\n",
        "# The decoder must accept a single word for the input layer as it loops through the sentence.\n",
        "decoder_input_step = Input(shape=(1,), name='DecoderInputStep')\n",
        "decoder_input_x_step = decoder_embedding(decoder_input_step)\n",
        "decoder_output_step, h, c = decoder_LSTM(decoder_input_x_step, initial_state=decoder_states_inputs)\n",
        "\n",
        "# The final states are put into an array.\n",
        "decoder_states = [h, c]\n",
        "\n",
        "# The decoder output for the step is put into two dense layers.\n",
        "decoder_output_step = decoder_dense(decoder_output_step)\n",
        "decoder_output_step = decoder_dense_softmax(decoder_output_step)\n",
        "\n",
        "# The decoder model is created.\n",
        "decoder_model = Model(\n",
        "    [decoder_input_step] + decoder_states_inputs, # initial input step AND initial h/c layers \n",
        "    [decoder_output_step] + decoder_states # output input step AND output h/c from decoder LSTM \n",
        ")\n",
        "\n",
        "# Plot model to be used for predictions.\n",
        "plot_model(decoder_model, to_file='decoder_model.png', show_shapes=True, show_layer_names=True)\n",
        "Image('/content/decoder_model.png')"
      ],
      "execution_count": null,
      "outputs": [
        {
          "output_type": "execute_result",
          "data": {
            "image/png": "[encoded data removed]",
            "text/plain": [
              "<IPython.core.display.Image object>"
            ]
          },
          "metadata": {
            "tags": []
          },
          "execution_count": 12
        }
      ]
    },
    {
      "cell_type": "markdown",
      "metadata": {
        "id": "ux0p1krHi7SV",
        "colab_type": "text"
      },
      "source": [
        "### 2.3. Create accuracy model"
      ]
    },
    {
      "cell_type": "markdown",
      "metadata": {
        "id": "_Sx2YouSjVXg",
        "colab_type": "text"
      },
      "source": [
        "#### This model is used to generate an accuracy measurement. It accepts the encoder and decoder inputs layers for the input (as an array of inputs) and the decoder LSTM output as the output."
      ]
    },
    {
      "cell_type": "code",
      "metadata": {
        "id": "k2dKiII5jIjX",
        "colab_type": "code",
        "colab": {
          "base_uri": "https://localhost:8080/",
          "height": 644
        },
        "outputId": "4c9233bd-d776-4962-b0d8-7954bbd66f65"
      },
      "source": [
        "from tensorflow.keras.models import Model\n",
        "from tensorflow.keras.optimizers import RMSprop\n",
        "\n",
        "accuracy_model = Model([encoder_input, decoder_input], decoder_output)\n",
        "\n",
        "# Plot accuracy model.\n",
        "plot_model(accuracy_model, to_file='accuracy_model.png', show_shapes=True, show_layer_names=True)\n",
        "Image('/content/accuracy_model.png')"
      ],
      "execution_count": null,
      "outputs": [
        {
          "output_type": "execute_result",
          "data": {
            "image/png": "[encoded data removed]",
            "text/plain": [
              "<IPython.core.display.Image object>"
            ]
          },
          "metadata": {
            "tags": []
          },
          "execution_count": 13
        }
      ]
    },
    {
      "cell_type": "markdown",
      "metadata": {
        "id": "jAR--zgOJiff",
        "colab_type": "text"
      },
      "source": [
        "#### Compile the accuracy model and fit it to the encoder/decoder input sequences."
      ]
    },
    {
      "cell_type": "code",
      "metadata": {
        "id": "8q4ESVzKJgHd",
        "colab_type": "code",
        "colab": {
          "base_uri": "https://localhost:8080/",
          "height": 357
        },
        "outputId": "7b6099b4-054b-483f-8d1c-bc7852d9ddad"
      },
      "source": [
        "accuracy_model.compile(\n",
        "    optimizer='rmsprop',\n",
        "    loss='categorical_crossentropy',\n",
        "    metrics=['accuracy']\n",
        ")\n",
        "\n",
        "r = accuracy_model.fit(\n",
        "    [encoder_input_sequences, decoder_input_sequences],\n",
        "    decoder_targets_OHE,\n",
        "    batch_size=16,\n",
        "    epochs=10,\n",
        "    validation_split=0.1,\n",
        ")"
      ],
      "execution_count": null,
      "outputs": [
        {
          "output_type": "stream",
          "text": [
            "Epoch 1/10\n",
            "2250/2250 [==============================] - 111s 49ms/step - loss: 1.5180 - accuracy: 0.7728 - val_loss: 2.0776 - val_accuracy: 0.6831\n",
            "Epoch 2/10\n",
            "2250/2250 [==============================] - 110s 49ms/step - loss: 1.1019 - accuracy: 0.8246 - val_loss: 1.8588 - val_accuracy: 0.7127\n",
            "Epoch 3/10\n",
            "2250/2250 [==============================] - 110s 49ms/step - loss: 0.9298 - accuracy: 0.8484 - val_loss: 1.7426 - val_accuracy: 0.7301\n",
            "Epoch 4/10\n",
            "2250/2250 [==============================] - 110s 49ms/step - loss: 0.8152 - accuracy: 0.8663 - val_loss: 1.7168 - val_accuracy: 0.7407\n",
            "Epoch 5/10\n",
            "2250/2250 [==============================] - 110s 49ms/step - loss: 0.7267 - accuracy: 0.8810 - val_loss: 1.7450 - val_accuracy: 0.7455\n",
            "Epoch 6/10\n",
            "2250/2250 [==============================] - 111s 49ms/step - loss: 0.6576 - accuracy: 0.8920 - val_loss: 1.7706 - val_accuracy: 0.7490\n",
            "Epoch 7/10\n",
            "2250/2250 [==============================] - 110s 49ms/step - loss: 0.6019 - accuracy: 0.9014 - val_loss: 1.8504 - val_accuracy: 0.7525\n",
            "Epoch 8/10\n",
            "2250/2250 [==============================] - 110s 49ms/step - loss: 0.5509 - accuracy: 0.9102 - val_loss: 1.9282 - val_accuracy: 0.7542\n",
            "Epoch 9/10\n",
            "2250/2250 [==============================] - 110s 49ms/step - loss: 0.5129 - accuracy: 0.9174 - val_loss: 2.0488 - val_accuracy: 0.7516\n",
            "Epoch 10/10\n",
            "2250/2250 [==============================] - 110s 49ms/step - loss: 0.4891 - accuracy: 0.9239 - val_loss: 2.1661 - val_accuracy: 0.7562\n"
          ],
          "name": "stdout"
        }
      ]
    },
    {
      "cell_type": "markdown",
      "metadata": {
        "id": "l-Xuv5dsqMPy",
        "colab_type": "text"
      },
      "source": [
        "#### Plot accuracy/loss over epochs."
      ]
    },
    {
      "cell_type": "code",
      "metadata": {
        "id": "RzLip46aqLob",
        "colab_type": "code",
        "colab": {
          "base_uri": "https://localhost:8080/",
          "height": 298
        },
        "outputId": "81d55b7a-fa37-4ac9-ec87-c16d4058a4d6"
      },
      "source": [
        "import matplotlib.pyplot as plt\n",
        "\n",
        "# Plot accuracy/val_accuracy and loss/val_loss.\n",
        "fig = plt.figure(figsize = (17, 4))\n",
        "    \n",
        "# Pull accuracy, val_accuracy, loss, and val_loss data from r.history.\n",
        "plt.subplot(121)\n",
        "plt.plot(r.history['accuracy'], label = 'acc')\n",
        "plt.plot(r.history['val_accuracy'], label = 'val_acc')\n",
        "plt.legend()\n",
        "plt.grid()\n",
        "plt.title(f'Accuracy')\n",
        "\n",
        "plt.subplot(122)\n",
        "plt.plot(r.history['loss'], label = 'loss')\n",
        "plt.plot(r.history['val_loss'], label = 'val_loss')\n",
        "plt.legend()\n",
        "plt.grid()\n",
        "plt.title(f'Loss')"
      ],
      "execution_count": null,
      "outputs": [
        {
          "output_type": "execute_result",
          "data": {
            "text/plain": [
              "Text(0.5, 1.0, 'Loss')"
            ]
          },
          "metadata": {
            "tags": []
          },
          "execution_count": 15
        },
        {
          "output_type": "display_data",
          "data": {
            "image/png": "[encoded data removed]",
            "text/plain": [
              "<Figure size 1224x288 with 2 Axes>"
            ]
          },
          "metadata": {
            "tags": [],
            "needs_background": "light"
          }
        }
      ]
    },
    {
      "cell_type": "markdown",
      "metadata": {
        "id": "3vYxazeHchwc",
        "colab_type": "text"
      },
      "source": [
        "## 3. Making predictions"
      ]
    },
    {
      "cell_type": "markdown",
      "metadata": {
        "id": "Btb4_s5Rc1k4",
        "colab_type": "text"
      },
      "source": [
        "### 3.1. Flip word/translated word dictionaries"
      ]
    },
    {
      "cell_type": "markdown",
      "metadata": {
        "id": "L7_F0IQFc-gb",
        "colab_type": "text"
      },
      "source": [
        "#### Because raw sequences of numbers will be worked with, both the word_index_dict and translated_word_index_dict are flipped to have indices as keys and the specific words as values."
      ]
    },
    {
      "cell_type": "code",
      "metadata": {
        "id": "Vv4ViKU07bGO",
        "colab_type": "code",
        "colab": {}
      },
      "source": [
        "index_word_dict = {i:w for w,i in word_index_dict.items()}\n",
        "index_translated_word_dict = {i:w for w,i in translated_word_index_dict.items()}"
      ],
      "execution_count": null,
      "outputs": []
    },
    {
      "cell_type": "markdown",
      "metadata": {
        "id": "K97iVB8foaMd",
        "colab_type": "text"
      },
      "source": [
        "### 3.2. Translate the sentence"
      ]
    },
    {
      "cell_type": "markdown",
      "metadata": {
        "id": "PYw4NBZNofWH",
        "colab_type": "text"
      },
      "source": [
        "#### The function to translate the sentence is created. It goes through a variety of steps to translate the sentence. It accepts an input sequence and predicts initial state values of h/c. It continues to loop through the sequence (starting with the starting token) and goes until either the end token is encountered in the output softmax identity array (i.e. when the index of the **max** value in the softmax array is equivalent to the end token index). If the end token index is not encountered, the index is swapped with its corresponding word and added to the output sentence. The new target sequence becomes the index that was found via np.argmax and the h/c values are stored and plugged back into the decoder with the target sequence to repeat until the loop ends. "
      ]
    },
    {
      "cell_type": "code",
      "metadata": {
        "id": "k953oXQ1ohQp",
        "colab_type": "code",
        "colab": {}
      },
      "source": [
        "def translate_sentence(input_seq):\n",
        "    # Returns the initial h/c values that are generated with the input sequence.\n",
        "    states_values = encoder_model.predict(input_seq)\n",
        "\n",
        "    # Returns the start token index and puts it in the target_seq to initiate. \n",
        "    target_seq = np.zeros((1, 1))\n",
        "    target_seq[0, 0] = translated_word_index_dict['走']\n",
        "\n",
        "    # Assigns the end token index to a variable and stops the following for\n",
        "    # loop once it reaches this eos value.\n",
        "    eos = translated_word_index_dict['停']\n",
        "\n",
        "    # Each word in the output is first added to an output_sentence list.\n",
        "    output_sentence = []\n",
        "\n",
        "    # Loops through an indefinite sentence length up until the maximum sentence length.\n",
        "    for _ in range(max_output_length):\n",
        "        # Returns predicted output sequence and h/c values.\n",
        "        output_seq, h, c = decoder_model.predict([target_seq] + states_values)\n",
        "\n",
        "        # Returns the index of the largest value in softmax identity array.\n",
        "        idx = np.argmax(output_seq[0, 0])\n",
        "        if eos == idx: # if the index is equal to the end token, it stops the loop\n",
        "            break\n",
        "\n",
        "        word = ''\n",
        "\n",
        "        if idx > 0: # if the index is not padding (designated as index of 0)\n",
        "            word = index_translated_word_dict[idx]\n",
        "            output_sentence.append(word)\n",
        "\n",
        "        # The index becomes the next sequence plugged into the decoder again.\n",
        "        # The states values are also saved and plugged into the decoder as well.\n",
        "        target_seq[0, 0] = idx\n",
        "        states_values = [h, c]\n",
        "\n",
        "    # Returns the output sentence as a string.\n",
        "    return ' '.join(output_sentence)"
      ],
      "execution_count": null,
      "outputs": []
    },
    {
      "cell_type": "markdown",
      "metadata": {
        "id": "jKK_kvB2OtYw",
        "colab_type": "text"
      },
      "source": [
        "### 3.3. Example translations"
      ]
    },
    {
      "cell_type": "markdown",
      "metadata": {
        "id": "rEhfDWcSO4nR",
        "colab_type": "text"
      },
      "source": [
        "#### Random sentences from the dataset are taken and put into the translate_sentence function defined before. In addition, the translated sentence is then put through Google Translate to have a rough idea of what the translated sentence is."
      ]
    },
    {
      "cell_type": "code",
      "metadata": {
        "id": "_OHBKxwK67jX",
        "colab_type": "code",
        "colab": {}
      },
      "source": [
        "!pip install -q googletrans\n",
        "from googletrans import Translator"
      ],
      "execution_count": null,
      "outputs": []
    },
    {
      "cell_type": "code",
      "metadata": {
        "id": "AqhhN_kwodtY",
        "colab_type": "code",
        "colab": {
          "base_uri": "https://localhost:8080/",
          "height": 442
        },
        "outputId": "323d1b0a-a98d-4d76-c096-04231ed639f2"
      },
      "source": [
        "# Loops through given amount of sample sequences.\n",
        "count = 1\n",
        "for _ in range(5):\n",
        "    print(f'Translation {count}: ')\n",
        "    i = np.random.choice(len(input_sentences))\n",
        "    input_seq = encoder_input_sequences[i:i+1]\n",
        "    translation = translate_sentence(input_seq)\n",
        "\n",
        "    translator = Translator()\n",
        "    translated = translator.translate(translation)\n",
        "\n",
        "    print('Input:', input_sentences[i])\n",
        "    print('Response:', translation)\n",
        "    print('Google Translate on Response:', translated.text)\n",
        "    print('')\n",
        "    count += 1"
      ],
      "execution_count": null,
      "outputs": [
        {
          "output_type": "stream",
          "text": [
            "Translation 1: \n",
            "Input: Im bored\n",
            "Response: ik verveel me\n",
            "Google Translate on Response: I am bored\n",
            "\n",
            "Translation 2: \n",
            "Input: Its raining again\n",
            "Response: het is weer aan het regenen\n",
            "Google Translate on Response: it is raining again\n",
            "\n",
            "Translation 3: \n",
            "Input: Please wait here\n",
            "Response: wacht hier alsjeblieft\n",
            "Google Translate on Response: please wait here\n",
            "\n",
            "Translation 4: \n",
            "Input: Is Tom free now\n",
            "Response: is tom nu vrij\n",
            "Google Translate on Response: tom is now free\n",
            "\n",
            "Translation 5: \n",
            "Input: It obviously wasnt an accident\n",
            "Response: het was duidelijk geen ongeluk\n",
            "Google Translate on Response: it was clearly not an accident\n",
            "\n"
          ],
          "name": "stdout"
        }
      ]
    },
    {
      "cell_type": "markdown",
      "metadata": {
        "id": "cYthECSMmLnY",
        "colab_type": "text"
      },
      "source": [
        "### 3.4. Custom translation"
      ]
    },
    {
      "cell_type": "markdown",
      "metadata": {
        "id": "_BKNjLhoLAdq",
        "colab_type": "text"
      },
      "source": [
        "#### Before any new sentences can be translated, they must go through the same process as our original dataset; they additionally must be padded to the max length of sentences put into training the model as well. The raw sentence is plugged into the prepare_sequence function which is then plugged into the translate_sentence function."
      ]
    },
    {
      "cell_type": "code",
      "metadata": {
        "id": "iOHiHv1Qd_Gl",
        "colab_type": "code",
        "colab": {}
      },
      "source": [
        "def prepare_sequence(sentence):\n",
        "    sentence = re.sub(r'[^\\w\\s]','', sentence)\n",
        "    sentence_array = sentence.rstrip().lower().split(' ')\n",
        "    sentence_sequence = [word_index_dict[word] for word in sentence_array if word in word_index_dict.keys()]\n",
        "    sentence_sequence = pad_sequences([sentence_sequence], maxlen=max_input_length)\n",
        "    return sentence_sequence"
      ],
      "execution_count": null,
      "outputs": []
    },
    {
      "cell_type": "code",
      "metadata": {
        "id": "09ZygD9MnubV",
        "colab_type": "code",
        "colab": {
          "base_uri": "https://localhost:8080/",
          "height": 697
        },
        "outputId": "9d1323fc-f33a-4a93-e9e2-800d95187c73"
      },
      "source": [
        "custom_sentences = [\n",
        "    'Sure.',\n",
        "    'Hello friend.',\n",
        "    'Who are you?', \n",
        "    'This is really fun.',\n",
        "    'Why would that be there?',\n",
        "    'I am not feeling that well.',\n",
        "    'My favorite colors are green and blue.',\n",
        "    'I am going to visit my family tomorrow.',\n",
        "    'I have been wanting to go back to college.',\n",
        "    'My friend wants to visit me in a few weeks.'             \n",
        "]\n",
        "\n",
        "custom_sequences = []\n",
        "\n",
        "for custom_sentence in custom_sentences:\n",
        "    sequence = prepare_sequence(custom_sentence)\n",
        "    custom_sequences.append(sequence)\n",
        "\n",
        "for i, custom_sequence in enumerate(custom_sequences):\n",
        "    translation = translate_sentence(custom_sequence)\n",
        "    translator = Translator()\n",
        "    translated = translator.translate(translation)\n",
        "\n",
        "    print('Input:', custom_sentences[i])\n",
        "    print('Response:', translation)\n",
        "    print('Google Translate on Response:', translated.text)\n",
        "    print('')"
      ],
      "execution_count": null,
      "outputs": [
        {
          "output_type": "stream",
          "text": [
            "Input: Sure.\n",
            "Response: echt\n",
            "Google Translate on Response: really\n",
            "\n",
            "Input: Hello friend.\n",
            "Response: hallo vrouw\n",
            "Google Translate on Response: hello wife\n",
            "\n",
            "Input: Who are you?\n",
            "Response: wie bent u\n",
            "Google Translate on Response: who are you\n",
            "\n",
            "Input: This is really fun.\n",
            "Response: dit is heel leuk\n",
            "Google Translate on Response: this is great fun\n",
            "\n",
            "Input: Why would that be there?\n",
            "Response: waarom zou dat daar zijn\n",
            "Google Translate on Response: why would that be there\n",
            "\n",
            "Input: I am not feeling that well.\n",
            "Response: ik voel me niet zo goed\n",
            "Google Translate on Response: I do not feel so good\n",
            "\n",
            "Input: My favorite colors are green and blue.\n",
            "Response: mijn lievelingskleur zijn blauw en blauw\n",
            "Google Translate on Response: my favorite colors are blue and blue\n",
            "\n",
            "Input: I am going to visit my family tomorrow.\n",
            "Response: morgen wil ik mijn neef\n",
            "Google Translate on Response: tomorrow i want my cousin\n",
            "\n",
            "Input: I have been wanting to go back to college.\n",
            "Response: ik heb net tijd om naar bed te gaan\n",
            "Google Translate on Response: I just got time to go to bed\n",
            "\n",
            "Input: My friend wants to visit me in a few weeks.\n",
            "Response: mijn oudste willen mij een\n",
            "Google Translate on Response: my oldest want me one\n",
            "\n"
          ],
          "name": "stdout"
        }
      ]
    },
    {
      "cell_type": "markdown",
      "metadata": {
        "id": "gqDcaNLxHt1B",
        "colab_type": "text"
      },
      "source": [
        "#### From this, it is shown that as the sentence length gets longer, it becomes more challenging to translate. That's because it is hard to ensure all of the relations between each of the words once the sentence gets larger."
      ]
    },
    {
      "cell_type": "markdown",
      "metadata": {
        "id": "41hP259lOAxD",
        "colab_type": "text"
      },
      "source": [
        "## 4. Conclusion"
      ]
    },
    {
      "cell_type": "markdown",
      "metadata": {
        "id": "210YISExOxfS",
        "colab_type": "text"
      },
      "source": [
        "### Seq2Seq is a powerful architecture that consists of both an encoder LSTM and decoder LSTM system. The data must be in numerical form first through tokenizers and padding. The encoder will encode these input English sequences and assign pre-determined word embeddings which give information not only of the word itself, but where the word is likely to be found with other words. The h and c states are extracted and are used as the initial state values for the decoder LSTM. From here, each number in the sequence is plugged into the decoder model until the end token index is predicted. The biggest shortcomings of this model are its inability to both translate larger sentences and translate languages with significant deviance to English sentence structure (e.g. Japanese). This architecture can be further improved through larger training sets with larger sentence lengths. If other languages are to be used with this model that do not adhere to English sentence structure, word embeddings that are specific to that language should be used instead."
      ]
    }
  ]
}